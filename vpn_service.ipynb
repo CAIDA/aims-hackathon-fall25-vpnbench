{
  "cells": [
    {
      "cell_type": "code",
      "execution_count": 1,
      "metadata": {},
      "outputs": [
        {
          "name": "stdout",
          "output_type": "stream",
          "text": [
            "All libraries loaded successfully!\n"
          ]
        }
      ],
      "source": [
        "import pandas as pd\n",
        "import numpy as np\n",
        "import os\n",
        "import ipaddress\n",
        "from pathlib import Path\n",
        "import plotly.graph_objects as go\n",
        "from plotly.offline import iplot, init_notebook_mode\n",
        "import plotly.io as pio\n",
        "pio.renderers.default = \"notebook\"\n",
        "\n",
        "print(\"All libraries loaded successfully!\")\n"
      ]
    },
    {
      "cell_type": "code",
      "execution_count": 2,
      "metadata": {},
      "outputs": [
        {
          "name": "stdout",
          "output_type": "stream",
          "text": [
            "Loading split datasets from split_data directory...\n"
          ]
        },
        {
          "name": "stderr",
          "output_type": "stream",
          "text": [
            "/tmp/ipykernel_41444/550744705.py:5: DtypeWarning:\n",
            "\n",
            "Columns (6) have mixed types. Specify dtype option on import or set low_memory=False.\n",
            "\n",
            "/tmp/ipykernel_41444/550744705.py:6: DtypeWarning:\n",
            "\n",
            "Columns (6) have mixed types. Specify dtype option on import or set low_memory=False.\n",
            "\n"
          ]
        },
        {
          "name": "stdout",
          "output_type": "stream",
          "text": [
            "IPv4 2025-06-13 shape: (16450714, 8)\n",
            "IPv4 2025-09-23 shape: (16899121, 8)\n",
            "IPv6 2025-06-13 shape: (226166, 8)\n",
            "IPv6 2025-09-23 shape: (253807, 8)\n",
            "\n",
            "Examining VPN service providers...\n",
            "IPv4 2025-06-13 unique services: 194\n",
            "IPv4 2025-09-23 unique services: 214\n",
            "IPv6 2025-06-13 unique services: 32\n",
            "IPv6 2025-09-23 unique services: 35\n"
          ]
        }
      ],
      "source": [
        "# Load the split datasets \n",
        "print(\"Loading split datasets from split_data directory...\")\n",
        "\n",
        "# Load IPv4 datasets\n",
        "df_ipv4_20250613 = pd.read_csv('split_data/ipv4_20250613.csv')\n",
        "df_ipv4_20250923 = pd.read_csv('split_data/ipv4_20250923.csv')\n",
        "\n",
        "# Load IPv6 datasets (aggregated to /64 prefixes)\n",
        "df_ipv6_20250613 = pd.read_csv('split_data/ipv6_64_20250613.csv')\n",
        "df_ipv6_20250923 = pd.read_csv('split_data/ipv6_64_20250923.csv')\n",
        "\n",
        "print(f\"IPv4 2025-06-13 shape: {df_ipv4_20250613.shape}\")\n",
        "print(f\"IPv4 2025-09-23 shape: {df_ipv4_20250923.shape}\")\n",
        "print(f\"IPv6 2025-06-13 shape: {df_ipv6_20250613.shape}\")\n",
        "print(f\"IPv6 2025-09-23 shape: {df_ipv6_20250923.shape}\")\n",
        "\n",
        "print(\"\\nExamining VPN service providers...\")\n",
        "print(f\"IPv4 2025-06-13 unique services: {df_ipv4_20250613['service'].nunique()}\")\n",
        "print(f\"IPv4 2025-09-23 unique services: {df_ipv4_20250923['service'].nunique()}\")\n",
        "print(f\"IPv6 2025-06-13 unique services: {df_ipv6_20250613['service'].nunique()}\")  \n",
        "print(f\"IPv6 2025-09-23 unique services: {df_ipv6_20250923['service'].nunique()}\")\n"
      ]
    },
    {
      "cell_type": "code",
      "execution_count": 12,
      "metadata": {},
      "outputs": [
        {
          "name": "stdout",
          "output_type": "stream",
          "text": [
            "VPN transition analysis function defined!\n"
          ]
        }
      ],
      "source": [
        "# Create VPN service provider transition analysis function\n",
        "def analyze_vpn_service_transitions(df_old, df_new, ip_version):\n",
        "    \"\"\"Analyze how VPN service providers change between time periods\"\"\"\n",
        "    \n",
        "    print(f\"\\n=== {ip_version} VPN Service Provider Transitions ===\")\n",
        "    \n",
        "    # Set network as index\n",
        "    df_old_indexed = df_old.set_index('network')\n",
        "    df_new_indexed = df_new.set_index('network')\n",
        "    \n",
        "    # Get VPN networks only (vpn=True)\n",
        "    vpn_old = df_old_indexed[df_old_indexed['vpn'] == True]\n",
        "    vpn_new = df_new_indexed[df_new_indexed['vpn'] == True]\n",
        "    \n",
        "    print(f\"VPN networks in 2025-06-13: {len(vpn_old):,}\")\n",
        "    print(f\"VPN networks in 2025-09-23: {len(vpn_new):,}\")\n",
        "    \n",
        "    # Find common VPN networks (those marked as VPN in both periods)\n",
        "    common_vpn_networks = set(vpn_old.index) & set(vpn_new.index)\n",
        "    print(f\"Common VPN networks: {len(common_vpn_networks):,}\")\n",
        "    \n",
        "    if len(common_vpn_networks) == 0:\n",
        "        print(\"No common VPN networks found!\")\n",
        "        return None\n",
        "        \n",
        "    # Filter to common networks\n",
        "    vpn_old_common = vpn_old.loc[list(common_vpn_networks)]\n",
        "    vpn_new_common = vpn_new.loc[list(common_vpn_networks)]\n",
        "    \n",
        "    # Create transition matrix\n",
        "    transitions = pd.DataFrame({\n",
        "        'network': list(common_vpn_networks),\n",
        "        'service_old': vpn_old_common['service'].values,\n",
        "        'service_new': vpn_new_common['service'].values\n",
        "    })\n",
        "    \n",
        "    # Clean up service names - replace NaN with 'Unknown/Generic VPN'\n",
        "    transitions['service_old'] = transitions['service_old'].fillna('Unknown/Generic VPN')\n",
        "    transitions['service_new'] = transitions['service_new'].fillna('Unknown/Generic VPN')\n",
        "    \n",
        "    # Count transitions\n",
        "    transition_counts = transitions.groupby(['service_old', 'service_new']).size().reset_index(name='count')\n",
        "    \n",
        "    print(f\"\\nTotal service transitions tracked: {len(transition_counts)}\")\n",
        "    print(f\"Top 10 transitions:\")\n",
        "    print(transition_counts.sort_values('count', ascending=False).head(10))\n",
        "    \n",
        "    return transition_counts\n",
        "\n",
        "print(\"VPN transition analysis function defined!\")\n"
      ]
    },
    {
      "cell_type": "code",
      "execution_count": 40,
      "metadata": {},
      "outputs": [
        {
          "name": "stdout",
          "output_type": "stream",
          "text": [
            "Sankey function ready!\n"
          ]
        }
      ],
      "source": [
        "# Create FAST Sankey diagram function - optimized for speed\n",
        "def create_vpn_service_sankey(transitions_df, ip_version, min_count=50, top_n=None):\n",
        "    \n",
        "    if transitions_df is None or len(transitions_df) == 0:\n",
        "        print(f\"No data for {ip_version}\")\n",
        "        return\n",
        "    \n",
        "    print(f\"Total transitions before filtering: {len(transitions_df)}\")\n",
        "    \n",
        "    if top_n:\n",
        "        data = transitions_df.nlargest(top_n, 'count')\n",
        "    else:\n",
        "        mask = transitions_df['count'] >= min_count\n",
        "        data = transitions_df[mask] if mask.any() else transitions_df.nlargest(20, 'count')\n",
        "    \n",
        "    print(f\"{ip_version}: {len(data)} transitions after filtering\")\n",
        "    \n",
        "    # Speed optimization: direct list operations instead of iterative\n",
        "    # Sort services by total transition count to order the nodes\n",
        "    service_counts = {}\n",
        "    for _, row in data.iterrows():\n",
        "        service_counts[row['service_old']] = service_counts.get(row['service_old'], 0) + row['count']\n",
        "        service_counts[row['service_new']] = service_counts.get(row['service_new'], 0) + row['count']\n",
        "    \n",
        "    # Sort services by their total count (descending)\n",
        "    services = sorted(set(data['service_old']) | set(data['service_new']), \n",
        "                     key=lambda s: service_counts.get(s, 0), reverse=True)\n",
        "    service_map = {s: i for i, s in enumerate(services)}\n",
        "    n = len(services)\n",
        "    \n",
        "    # Vectorized operations\n",
        "    source = [service_map[old] for old in data['service_old']]\n",
        "    target = [service_map[new] + n for new in data['service_new']]\n",
        "    value = data['count'].tolist()\n",
        "    \n",
        "    # Calculate node values for display\n",
        "    old_counts = {}\n",
        "    new_counts = {}\n",
        "    for _, row in data.iterrows():\n",
        "        old_counts[row['service_old']] = old_counts.get(row['service_old'], 0) + row['count']\n",
        "        new_counts[row['service_new']] = new_counts.get(row['service_new'], 0) + row['count']\n",
        "    \n",
        "    # Labels with counts\n",
        "    labels = [f\"{s} ({old_counts.get(s, 0):,})\" for s in services] + [f\"{s} ({new_counts.get(s, 0):,})\" for s in services]\n",
        "    \n",
        "    # Quick Sankey creation\n",
        "    fig = go.Figure(go.Sankey(\n",
        "        node=dict(pad=8, thickness=12, label=labels),\n",
        "        link=dict(source=source, target=target, value=value)\n",
        "    ))\n",
        "    \n",
        "    fig.update_layout(\n",
        "        title=f\"{ip_version} VPN Transitions from 2025-06-13 to 2025-09-23\",\n",
        "        height=1000,\n",
        "        margin=dict(t=30, b=10, l=10, r=10)\n",
        "    )\n",
        "    \n",
        "    fig.show()\n",
        "    \n",
        "    # Quick summary\n",
        "    total = data['count'].sum()\n",
        "    stable = data[data['service_old'] == data['service_new']]['count'].sum()\n",
        "    print(f\"{total:,} networks, {stable/total*100:.1f}% stable\")\n",
        "\n",
        "print(\"Sankey function ready!\")\n"
      ]
    },
    {
      "cell_type": "code",
      "execution_count": 15,
      "metadata": {},
      "outputs": [
        {
          "name": "stdout",
          "output_type": "stream",
          "text": [
            "\n",
            "=== IPv4 VPN Service Provider Transitions ===\n",
            "VPN networks in 2025-06-13: 10,719,408\n",
            "VPN networks in 2025-09-23: 11,043,477\n",
            "Common VPN networks: 5,302,295\n",
            "\n",
            "Total service transitions tracked: 362\n",
            "Top 10 transitions:\n",
            "               service_old            service_new    count\n",
            "240    Unknown/Generic VPN    Unknown/Generic VPN  5252375\n",
            "298                VPNGate                VPNGate     6097\n",
            "56                 FastVPN                FastVPN     5849\n",
            "127                NordVPN                NordVPN     4195\n",
            "98                IPVanish               IPVanish     2437\n",
            "183           Troywell VPN           Troywell VPN     2307\n",
            "191             TunnelBear             TunnelBear     2019\n",
            "147              ProtonVPN              ProtonVPN     1989\n",
            "142  PrivateInternetAccess  PrivateInternetAccess     1780\n",
            "172              Surfshark              Surfshark     1527\n"
          ]
        }
      ],
      "source": [
        "# Analyze IPv4 VPN service transitions\n",
        "ipv4_transitions = analyze_vpn_service_transitions(df_ipv4_20250613, df_ipv4_20250923, \"IPv4\")"
      ]
    },
    {
      "cell_type": "code",
      "execution_count": 41,
      "metadata": {},
      "outputs": [
        {
          "name": "stdout",
          "output_type": "stream",
          "text": [
            "      service_old   service_new  count\n",
            "298       VPNGate       VPNGate   6097\n",
            "56        FastVPN       FastVPN   5849\n",
            "127       NordVPN       NordVPN   4195\n",
            "98       IPVanish      IPVanish   2437\n",
            "183  Troywell VPN  Troywell VPN   2307\n",
            "..            ...           ...    ...\n",
            "344     myiphider     myiphider     53\n",
            "123        Njalla        Njalla     52\n",
            "24       BelkaVPN      BelkaVPN     49\n",
            "306     VPNTunnel     VPNTunnel     48\n",
            "84      HideIPVPN     HideIPVPN     47\n",
            "\n",
            "[100 rows x 3 columns]\n",
            "Total transitions before filtering: 361\n",
            "IPv4: 37 transitions after filtering\n"
          ]
        },
        {
          "data": {
            "text/html": [
              "<div>            <script src=\"https://cdnjs.cloudflare.com/ajax/libs/mathjax/2.7.5/MathJax.js?config=TeX-AMS-MML_SVG\"></script><script type=\"text/javascript\">if (window.MathJax && window.MathJax.Hub && window.MathJax.Hub.Config) {window.MathJax.Hub.Config({SVG: {font: \"STIX-Web\"}});}</script>                    <div id=\"38693c80-fe9c-41aa-9cf4-08d34850abc6\" class=\"plotly-graph-div\" style=\"height:1000px; width:100%;\"></div>            <script type=\"text/javascript\">                window.PLOTLYENV=window.PLOTLYENV || {};                                if (document.getElementById(\"38693c80-fe9c-41aa-9cf4-08d34850abc6\")) {                    Plotly.newPlot(                        \"38693c80-fe9c-41aa-9cf4-08d34850abc6\",                        [{\"link\":{\"source\":[0,1,2,4,5,3,7,8,9,11,12,13,10,3,0,14,15,16,6,6,10,6,6,17,18,19,6,6,21,6,22,6,23,25,24,26,28],\"target\":[30,31,32,34,35,33,37,38,39,41,42,43,40,36,36,44,45,46,50,33,36,31,30,47,48,49,40,39,51,57,52,38,53,55,54,56,59],\"value\":[6097,5849,4195,2437,2307,2019,1989,1780,1527,1145,1111,955,775,689,648,643,588,531,499,464,415,403,393,392,357,344,331,280,234,226,223,220,212,211,211,204,203]},\"node\":{\"label\":[\"VPNGate (6,745)\",\"FastVPN (5,849)\",\"NordVPN (4,195)\",\"TunnelBear (2,708)\",\"IPVanish (2,437)\",\"Troywell VPN (2,307)\",\"Unknown\\u002fGeneric VPN (2,816)\",\"ProtonVPN (1,989)\",\"PrivateInternetAccess (1,780)\",\"Surfshark (1,527)\",\"HotspotShield (1,190)\",\"CyberGhost (1,145)\",\"ExpressVPN (1,111)\",\"Mullvad (955)\",\"PureVPN (643)\",\"HideMyAss (588)\",\"TorGuard (531)\",\"AirVPN (392)\",\"WindScribe (357)\",\"VPNUnlimited (344)\",\"giampingsocks5 (0)\",\"iVPN (234)\",\"Hide.me (223)\",\"Cisco Secure Web Gateway (212)\",\"PrivadoVPN (211)\",\"FlowVPN (211)\",\"VPN.ac (204)\",\"holaproxy (0)\",\"Trust VPN (203)\",\"super_unlimited (0)\",\"VPNGate (6,490)\",\"FastVPN (6,252)\",\"NordVPN (4,195)\",\"TunnelBear (2,483)\",\"IPVanish (2,437)\",\"Troywell VPN (2,307)\",\"Unknown\\u002fGeneric VPN (1,752)\",\"ProtonVPN (1,989)\",\"PrivateInternetAccess (2,000)\",\"Surfshark (1,807)\",\"HotspotShield (1,106)\",\"CyberGhost (1,145)\",\"ExpressVPN (1,111)\",\"Mullvad (955)\",\"PureVPN (643)\",\"HideMyAss (588)\",\"TorGuard (531)\",\"AirVPN (392)\",\"WindScribe (357)\",\"VPNUnlimited (344)\",\"giampingsocks5 (499)\",\"iVPN (234)\",\"Hide.me (223)\",\"Cisco Secure Web Gateway (212)\",\"PrivadoVPN (211)\",\"FlowVPN (211)\",\"VPN.ac (204)\",\"holaproxy (226)\",\"Trust VPN (0)\",\"super_unlimited (203)\"],\"pad\":8,\"thickness\":12},\"type\":\"sankey\"}],                        {\"template\":{\"data\":{\"histogram2dcontour\":[{\"type\":\"histogram2dcontour\",\"colorbar\":{\"outlinewidth\":0,\"ticks\":\"\"},\"colorscale\":[[0.0,\"#0d0887\"],[0.1111111111111111,\"#46039f\"],[0.2222222222222222,\"#7201a8\"],[0.3333333333333333,\"#9c179e\"],[0.4444444444444444,\"#bd3786\"],[0.5555555555555556,\"#d8576b\"],[0.6666666666666666,\"#ed7953\"],[0.7777777777777778,\"#fb9f3a\"],[0.8888888888888888,\"#fdca26\"],[1.0,\"#f0f921\"]]}],\"choropleth\":[{\"type\":\"choropleth\",\"colorbar\":{\"outlinewidth\":0,\"ticks\":\"\"}}],\"histogram2d\":[{\"type\":\"histogram2d\",\"colorbar\":{\"outlinewidth\":0,\"ticks\":\"\"},\"colorscale\":[[0.0,\"#0d0887\"],[0.1111111111111111,\"#46039f\"],[0.2222222222222222,\"#7201a8\"],[0.3333333333333333,\"#9c179e\"],[0.4444444444444444,\"#bd3786\"],[0.5555555555555556,\"#d8576b\"],[0.6666666666666666,\"#ed7953\"],[0.7777777777777778,\"#fb9f3a\"],[0.8888888888888888,\"#fdca26\"],[1.0,\"#f0f921\"]]}],\"heatmap\":[{\"type\":\"heatmap\",\"colorbar\":{\"outlinewidth\":0,\"ticks\":\"\"},\"colorscale\":[[0.0,\"#0d0887\"],[0.1111111111111111,\"#46039f\"],[0.2222222222222222,\"#7201a8\"],[0.3333333333333333,\"#9c179e\"],[0.4444444444444444,\"#bd3786\"],[0.5555555555555556,\"#d8576b\"],[0.6666666666666666,\"#ed7953\"],[0.7777777777777778,\"#fb9f3a\"],[0.8888888888888888,\"#fdca26\"],[1.0,\"#f0f921\"]]}],\"contourcarpet\":[{\"type\":\"contourcarpet\",\"colorbar\":{\"outlinewidth\":0,\"ticks\":\"\"}}],\"contour\":[{\"type\":\"contour\",\"colorbar\":{\"outlinewidth\":0,\"ticks\":\"\"},\"colorscale\":[[0.0,\"#0d0887\"],[0.1111111111111111,\"#46039f\"],[0.2222222222222222,\"#7201a8\"],[0.3333333333333333,\"#9c179e\"],[0.4444444444444444,\"#bd3786\"],[0.5555555555555556,\"#d8576b\"],[0.6666666666666666,\"#ed7953\"],[0.7777777777777778,\"#fb9f3a\"],[0.8888888888888888,\"#fdca26\"],[1.0,\"#f0f921\"]]}],\"surface\":[{\"type\":\"surface\",\"colorbar\":{\"outlinewidth\":0,\"ticks\":\"\"},\"colorscale\":[[0.0,\"#0d0887\"],[0.1111111111111111,\"#46039f\"],[0.2222222222222222,\"#7201a8\"],[0.3333333333333333,\"#9c179e\"],[0.4444444444444444,\"#bd3786\"],[0.5555555555555556,\"#d8576b\"],[0.6666666666666666,\"#ed7953\"],[0.7777777777777778,\"#fb9f3a\"],[0.8888888888888888,\"#fdca26\"],[1.0,\"#f0f921\"]]}],\"mesh3d\":[{\"type\":\"mesh3d\",\"colorbar\":{\"outlinewidth\":0,\"ticks\":\"\"}}],\"scatter\":[{\"fillpattern\":{\"fillmode\":\"overlay\",\"size\":10,\"solidity\":0.2},\"type\":\"scatter\"}],\"parcoords\":[{\"type\":\"parcoords\",\"line\":{\"colorbar\":{\"outlinewidth\":0,\"ticks\":\"\"}}}],\"scatterpolargl\":[{\"type\":\"scatterpolargl\",\"marker\":{\"colorbar\":{\"outlinewidth\":0,\"ticks\":\"\"}}}],\"bar\":[{\"error_x\":{\"color\":\"#2a3f5f\"},\"error_y\":{\"color\":\"#2a3f5f\"},\"marker\":{\"line\":{\"color\":\"#E5ECF6\",\"width\":0.5},\"pattern\":{\"fillmode\":\"overlay\",\"size\":10,\"solidity\":0.2}},\"type\":\"bar\"}],\"scattergeo\":[{\"type\":\"scattergeo\",\"marker\":{\"colorbar\":{\"outlinewidth\":0,\"ticks\":\"\"}}}],\"scatterpolar\":[{\"type\":\"scatterpolar\",\"marker\":{\"colorbar\":{\"outlinewidth\":0,\"ticks\":\"\"}}}],\"histogram\":[{\"marker\":{\"pattern\":{\"fillmode\":\"overlay\",\"size\":10,\"solidity\":0.2}},\"type\":\"histogram\"}],\"scattergl\":[{\"type\":\"scattergl\",\"marker\":{\"colorbar\":{\"outlinewidth\":0,\"ticks\":\"\"}}}],\"scatter3d\":[{\"type\":\"scatter3d\",\"line\":{\"colorbar\":{\"outlinewidth\":0,\"ticks\":\"\"}},\"marker\":{\"colorbar\":{\"outlinewidth\":0,\"ticks\":\"\"}}}],\"scattermap\":[{\"type\":\"scattermap\",\"marker\":{\"colorbar\":{\"outlinewidth\":0,\"ticks\":\"\"}}}],\"scattermapbox\":[{\"type\":\"scattermapbox\",\"marker\":{\"colorbar\":{\"outlinewidth\":0,\"ticks\":\"\"}}}],\"scatterternary\":[{\"type\":\"scatterternary\",\"marker\":{\"colorbar\":{\"outlinewidth\":0,\"ticks\":\"\"}}}],\"scattercarpet\":[{\"type\":\"scattercarpet\",\"marker\":{\"colorbar\":{\"outlinewidth\":0,\"ticks\":\"\"}}}],\"carpet\":[{\"aaxis\":{\"endlinecolor\":\"#2a3f5f\",\"gridcolor\":\"white\",\"linecolor\":\"white\",\"minorgridcolor\":\"white\",\"startlinecolor\":\"#2a3f5f\"},\"baxis\":{\"endlinecolor\":\"#2a3f5f\",\"gridcolor\":\"white\",\"linecolor\":\"white\",\"minorgridcolor\":\"white\",\"startlinecolor\":\"#2a3f5f\"},\"type\":\"carpet\"}],\"table\":[{\"cells\":{\"fill\":{\"color\":\"#EBF0F8\"},\"line\":{\"color\":\"white\"}},\"header\":{\"fill\":{\"color\":\"#C8D4E3\"},\"line\":{\"color\":\"white\"}},\"type\":\"table\"}],\"barpolar\":[{\"marker\":{\"line\":{\"color\":\"#E5ECF6\",\"width\":0.5},\"pattern\":{\"fillmode\":\"overlay\",\"size\":10,\"solidity\":0.2}},\"type\":\"barpolar\"}],\"pie\":[{\"automargin\":true,\"type\":\"pie\"}]},\"layout\":{\"autotypenumbers\":\"strict\",\"colorway\":[\"#636efa\",\"#EF553B\",\"#00cc96\",\"#ab63fa\",\"#FFA15A\",\"#19d3f3\",\"#FF6692\",\"#B6E880\",\"#FF97FF\",\"#FECB52\"],\"font\":{\"color\":\"#2a3f5f\"},\"hovermode\":\"closest\",\"hoverlabel\":{\"align\":\"left\"},\"paper_bgcolor\":\"white\",\"plot_bgcolor\":\"#E5ECF6\",\"polar\":{\"bgcolor\":\"#E5ECF6\",\"angularaxis\":{\"gridcolor\":\"white\",\"linecolor\":\"white\",\"ticks\":\"\"},\"radialaxis\":{\"gridcolor\":\"white\",\"linecolor\":\"white\",\"ticks\":\"\"}},\"ternary\":{\"bgcolor\":\"#E5ECF6\",\"aaxis\":{\"gridcolor\":\"white\",\"linecolor\":\"white\",\"ticks\":\"\"},\"baxis\":{\"gridcolor\":\"white\",\"linecolor\":\"white\",\"ticks\":\"\"},\"caxis\":{\"gridcolor\":\"white\",\"linecolor\":\"white\",\"ticks\":\"\"}},\"coloraxis\":{\"colorbar\":{\"outlinewidth\":0,\"ticks\":\"\"}},\"colorscale\":{\"sequential\":[[0.0,\"#0d0887\"],[0.1111111111111111,\"#46039f\"],[0.2222222222222222,\"#7201a8\"],[0.3333333333333333,\"#9c179e\"],[0.4444444444444444,\"#bd3786\"],[0.5555555555555556,\"#d8576b\"],[0.6666666666666666,\"#ed7953\"],[0.7777777777777778,\"#fb9f3a\"],[0.8888888888888888,\"#fdca26\"],[1.0,\"#f0f921\"]],\"sequentialminus\":[[0.0,\"#0d0887\"],[0.1111111111111111,\"#46039f\"],[0.2222222222222222,\"#7201a8\"],[0.3333333333333333,\"#9c179e\"],[0.4444444444444444,\"#bd3786\"],[0.5555555555555556,\"#d8576b\"],[0.6666666666666666,\"#ed7953\"],[0.7777777777777778,\"#fb9f3a\"],[0.8888888888888888,\"#fdca26\"],[1.0,\"#f0f921\"]],\"diverging\":[[0,\"#8e0152\"],[0.1,\"#c51b7d\"],[0.2,\"#de77ae\"],[0.3,\"#f1b6da\"],[0.4,\"#fde0ef\"],[0.5,\"#f7f7f7\"],[0.6,\"#e6f5d0\"],[0.7,\"#b8e186\"],[0.8,\"#7fbc41\"],[0.9,\"#4d9221\"],[1,\"#276419\"]]},\"xaxis\":{\"gridcolor\":\"white\",\"linecolor\":\"white\",\"ticks\":\"\",\"title\":{\"standoff\":15},\"zerolinecolor\":\"white\",\"automargin\":true,\"zerolinewidth\":2},\"yaxis\":{\"gridcolor\":\"white\",\"linecolor\":\"white\",\"ticks\":\"\",\"title\":{\"standoff\":15},\"zerolinecolor\":\"white\",\"automargin\":true,\"zerolinewidth\":2},\"scene\":{\"xaxis\":{\"backgroundcolor\":\"#E5ECF6\",\"gridcolor\":\"white\",\"linecolor\":\"white\",\"showbackground\":true,\"ticks\":\"\",\"zerolinecolor\":\"white\",\"gridwidth\":2},\"yaxis\":{\"backgroundcolor\":\"#E5ECF6\",\"gridcolor\":\"white\",\"linecolor\":\"white\",\"showbackground\":true,\"ticks\":\"\",\"zerolinecolor\":\"white\",\"gridwidth\":2},\"zaxis\":{\"backgroundcolor\":\"#E5ECF6\",\"gridcolor\":\"white\",\"linecolor\":\"white\",\"showbackground\":true,\"ticks\":\"\",\"zerolinecolor\":\"white\",\"gridwidth\":2}},\"shapedefaults\":{\"line\":{\"color\":\"#2a3f5f\"}},\"annotationdefaults\":{\"arrowcolor\":\"#2a3f5f\",\"arrowhead\":0,\"arrowwidth\":1},\"geo\":{\"bgcolor\":\"white\",\"landcolor\":\"#E5ECF6\",\"subunitcolor\":\"white\",\"showland\":true,\"showlakes\":true,\"lakecolor\":\"white\"},\"title\":{\"x\":0.05},\"mapbox\":{\"style\":\"light\"}}},\"margin\":{\"t\":30,\"b\":10,\"l\":10,\"r\":10},\"title\":{\"text\":\"IPv4 VPN Transitions from 2025-06-13 to 2025-09-23\"},\"height\":1000},                        {\"responsive\": true}                    ).then(function(){\n",
              "                            \n",
              "var gd = document.getElementById('38693c80-fe9c-41aa-9cf4-08d34850abc6');\n",
              "var x = new MutationObserver(function (mutations, observer) {{\n",
              "        var display = window.getComputedStyle(gd).display;\n",
              "        if (!display || display === 'none') {{\n",
              "            console.log([gd, 'removed!']);\n",
              "            Plotly.purge(gd);\n",
              "            observer.disconnect();\n",
              "        }}\n",
              "}});\n",
              "\n",
              "// Listen for the removal of the full notebook cells\n",
              "var notebookContainer = gd.closest('#notebook-container');\n",
              "if (notebookContainer) {{\n",
              "    x.observe(notebookContainer, {childList: true});\n",
              "}}\n",
              "\n",
              "// Listen for the clearing of the current output cell\n",
              "var outputEl = gd.closest('.output');\n",
              "if (outputEl) {{\n",
              "    x.observe(outputEl, {childList: true});\n",
              "}}\n",
              "\n",
              "                        })                };            </script>        </div>"
            ]
          },
          "metadata": {},
          "output_type": "display_data"
        },
        {
          "name": "stdout",
          "output_type": "stream",
          "text": [
            "41,107 networks, 88.4% stable\n"
          ]
        }
      ],
      "source": [
        "# Remove Unknown/Generic VPN to Unknown/Generic VPN transition if it exists\n",
        "ipv4_transitions = ipv4_transitions[~((ipv4_transitions['service_old'] == 'Unknown/Generic VPN') & \n",
        "                                     (ipv4_transitions['service_new'] == 'Unknown/Generic VPN'))]\n",
        "\n",
        "\n",
        "ipv4_transitions = ipv4_transitions.sort_values(by='count', ascending=False)\n",
        "print(ipv4_transitions.head(100))\n",
        "\n",
        "# Create Sankey for IPv4\n",
        "if ipv4_transitions is not None:\n",
        "    create_vpn_service_sankey(ipv4_transitions, \"IPv4\", min_count=200)\n"
      ]
    },
    {
      "cell_type": "code",
      "execution_count": 43,
      "metadata": {},
      "outputs": [
        {
          "name": "stdout",
          "output_type": "stream",
          "text": [
            "\n",
            "=== IPv6 VPN Service Provider Transitions ===\n",
            "VPN networks in 2025-06-13: 1,124\n",
            "VPN networks in 2025-09-23: 1,507\n",
            "Common VPN networks: 889\n",
            "\n",
            "Total service transitions tracked: 20\n",
            "Top 10 transitions:\n",
            "            service_old          service_new  count\n",
            "10              Mullvad              Mullvad    506\n",
            "12                 OVPN                 OVPN    229\n",
            "2               Anonine                BoxPN     42\n",
            "8               MaxiVPN              MaxiVPN     34\n",
            "11               Njalla               Njalla     29\n",
            "0                  1VPN                 1VPN     11\n",
            "9               MaxiVPN                v2vpn      9\n",
            "15         Troywell VPN         Troywell VPN      7\n",
            "7                  Jego                 Jego      4\n",
            "16  Unknown/Generic VPN  Unknown/Generic VPN      4\n",
            "Total transitions before filtering: 20\n",
            "IPv6: 20 transitions after filtering\n"
          ]
        },
        {
          "data": {
            "text/html": [
              "<div>            <script src=\"https://cdnjs.cloudflare.com/ajax/libs/mathjax/2.7.5/MathJax.js?config=TeX-AMS-MML_SVG\"></script><script type=\"text/javascript\">if (window.MathJax && window.MathJax.Hub && window.MathJax.Hub.Config) {window.MathJax.Hub.Config({SVG: {font: \"STIX-Web\"}});}</script>                    <div id=\"c140541e-d539-4cc6-b36d-56e6904588f1\" class=\"plotly-graph-div\" style=\"height:1000px; width:100%;\"></div>            <script type=\"text/javascript\">                window.PLOTLYENV=window.PLOTLYENV || {};                                if (document.getElementById(\"c140541e-d539-4cc6-b36d-56e6904588f1\")) {                    Plotly.newPlot(                        \"c140541e-d539-4cc6-b36d-56e6904588f1\",                        [{\"link\":{\"source\":[6,4,4,13,15,11,11,10,2,2,0,3,1,18,12,7,9,14,17,16],\"target\":[28,26,27,35,37,33,41,32,24,30,22,25,23,42,34,29,31,36,43,38],\"value\":[11,3,42,1,1,2,1,4,34,9,506,29,229,1,2,7,4,1,1,1]},\"node\":{\"label\":[\"Mullvad (506)\",\"OVPN (229)\",\"MaxiVPN (43)\",\"Njalla (29)\",\"Anonine (45)\",\"BoxPN (0)\",\"1VPN (11)\",\"Troywell VPN (7)\",\"v2vpn (0)\",\"Unknown\\u002fGeneric VPN (4)\",\"Jego (4)\",\"HideMyIP (3)\",\"StrongVPN (2)\",\"BullVPN (1)\",\"VPNSecure (1)\",\"FastestVPN (1)\",\"elr1c (1)\",\"VeePN (1)\",\"Snap (1)\",\"PhantomPeer VPN (0)\",\"ishaanvpn (0)\",\"vuzevpn (0)\",\"Mullvad (506)\",\"OVPN (229)\",\"MaxiVPN (34)\",\"Njalla (29)\",\"Anonine (3)\",\"BoxPN (42)\",\"1VPN (11)\",\"Troywell VPN (7)\",\"v2vpn (9)\",\"Unknown\\u002fGeneric VPN (4)\",\"Jego (4)\",\"HideMyIP (2)\",\"StrongVPN (2)\",\"BullVPN (1)\",\"VPNSecure (1)\",\"FastestVPN (1)\",\"elr1c (1)\",\"VeePN (0)\",\"Snap (0)\",\"PhantomPeer VPN (1)\",\"ishaanvpn (1)\",\"vuzevpn (1)\"],\"pad\":8,\"thickness\":12},\"type\":\"sankey\"}],                        {\"template\":{\"data\":{\"histogram2dcontour\":[{\"type\":\"histogram2dcontour\",\"colorbar\":{\"outlinewidth\":0,\"ticks\":\"\"},\"colorscale\":[[0.0,\"#0d0887\"],[0.1111111111111111,\"#46039f\"],[0.2222222222222222,\"#7201a8\"],[0.3333333333333333,\"#9c179e\"],[0.4444444444444444,\"#bd3786\"],[0.5555555555555556,\"#d8576b\"],[0.6666666666666666,\"#ed7953\"],[0.7777777777777778,\"#fb9f3a\"],[0.8888888888888888,\"#fdca26\"],[1.0,\"#f0f921\"]]}],\"choropleth\":[{\"type\":\"choropleth\",\"colorbar\":{\"outlinewidth\":0,\"ticks\":\"\"}}],\"histogram2d\":[{\"type\":\"histogram2d\",\"colorbar\":{\"outlinewidth\":0,\"ticks\":\"\"},\"colorscale\":[[0.0,\"#0d0887\"],[0.1111111111111111,\"#46039f\"],[0.2222222222222222,\"#7201a8\"],[0.3333333333333333,\"#9c179e\"],[0.4444444444444444,\"#bd3786\"],[0.5555555555555556,\"#d8576b\"],[0.6666666666666666,\"#ed7953\"],[0.7777777777777778,\"#fb9f3a\"],[0.8888888888888888,\"#fdca26\"],[1.0,\"#f0f921\"]]}],\"heatmap\":[{\"type\":\"heatmap\",\"colorbar\":{\"outlinewidth\":0,\"ticks\":\"\"},\"colorscale\":[[0.0,\"#0d0887\"],[0.1111111111111111,\"#46039f\"],[0.2222222222222222,\"#7201a8\"],[0.3333333333333333,\"#9c179e\"],[0.4444444444444444,\"#bd3786\"],[0.5555555555555556,\"#d8576b\"],[0.6666666666666666,\"#ed7953\"],[0.7777777777777778,\"#fb9f3a\"],[0.8888888888888888,\"#fdca26\"],[1.0,\"#f0f921\"]]}],\"contourcarpet\":[{\"type\":\"contourcarpet\",\"colorbar\":{\"outlinewidth\":0,\"ticks\":\"\"}}],\"contour\":[{\"type\":\"contour\",\"colorbar\":{\"outlinewidth\":0,\"ticks\":\"\"},\"colorscale\":[[0.0,\"#0d0887\"],[0.1111111111111111,\"#46039f\"],[0.2222222222222222,\"#7201a8\"],[0.3333333333333333,\"#9c179e\"],[0.4444444444444444,\"#bd3786\"],[0.5555555555555556,\"#d8576b\"],[0.6666666666666666,\"#ed7953\"],[0.7777777777777778,\"#fb9f3a\"],[0.8888888888888888,\"#fdca26\"],[1.0,\"#f0f921\"]]}],\"surface\":[{\"type\":\"surface\",\"colorbar\":{\"outlinewidth\":0,\"ticks\":\"\"},\"colorscale\":[[0.0,\"#0d0887\"],[0.1111111111111111,\"#46039f\"],[0.2222222222222222,\"#7201a8\"],[0.3333333333333333,\"#9c179e\"],[0.4444444444444444,\"#bd3786\"],[0.5555555555555556,\"#d8576b\"],[0.6666666666666666,\"#ed7953\"],[0.7777777777777778,\"#fb9f3a\"],[0.8888888888888888,\"#fdca26\"],[1.0,\"#f0f921\"]]}],\"mesh3d\":[{\"type\":\"mesh3d\",\"colorbar\":{\"outlinewidth\":0,\"ticks\":\"\"}}],\"scatter\":[{\"fillpattern\":{\"fillmode\":\"overlay\",\"size\":10,\"solidity\":0.2},\"type\":\"scatter\"}],\"parcoords\":[{\"type\":\"parcoords\",\"line\":{\"colorbar\":{\"outlinewidth\":0,\"ticks\":\"\"}}}],\"scatterpolargl\":[{\"type\":\"scatterpolargl\",\"marker\":{\"colorbar\":{\"outlinewidth\":0,\"ticks\":\"\"}}}],\"bar\":[{\"error_x\":{\"color\":\"#2a3f5f\"},\"error_y\":{\"color\":\"#2a3f5f\"},\"marker\":{\"line\":{\"color\":\"#E5ECF6\",\"width\":0.5},\"pattern\":{\"fillmode\":\"overlay\",\"size\":10,\"solidity\":0.2}},\"type\":\"bar\"}],\"scattergeo\":[{\"type\":\"scattergeo\",\"marker\":{\"colorbar\":{\"outlinewidth\":0,\"ticks\":\"\"}}}],\"scatterpolar\":[{\"type\":\"scatterpolar\",\"marker\":{\"colorbar\":{\"outlinewidth\":0,\"ticks\":\"\"}}}],\"histogram\":[{\"marker\":{\"pattern\":{\"fillmode\":\"overlay\",\"size\":10,\"solidity\":0.2}},\"type\":\"histogram\"}],\"scattergl\":[{\"type\":\"scattergl\",\"marker\":{\"colorbar\":{\"outlinewidth\":0,\"ticks\":\"\"}}}],\"scatter3d\":[{\"type\":\"scatter3d\",\"line\":{\"colorbar\":{\"outlinewidth\":0,\"ticks\":\"\"}},\"marker\":{\"colorbar\":{\"outlinewidth\":0,\"ticks\":\"\"}}}],\"scattermap\":[{\"type\":\"scattermap\",\"marker\":{\"colorbar\":{\"outlinewidth\":0,\"ticks\":\"\"}}}],\"scattermapbox\":[{\"type\":\"scattermapbox\",\"marker\":{\"colorbar\":{\"outlinewidth\":0,\"ticks\":\"\"}}}],\"scatterternary\":[{\"type\":\"scatterternary\",\"marker\":{\"colorbar\":{\"outlinewidth\":0,\"ticks\":\"\"}}}],\"scattercarpet\":[{\"type\":\"scattercarpet\",\"marker\":{\"colorbar\":{\"outlinewidth\":0,\"ticks\":\"\"}}}],\"carpet\":[{\"aaxis\":{\"endlinecolor\":\"#2a3f5f\",\"gridcolor\":\"white\",\"linecolor\":\"white\",\"minorgridcolor\":\"white\",\"startlinecolor\":\"#2a3f5f\"},\"baxis\":{\"endlinecolor\":\"#2a3f5f\",\"gridcolor\":\"white\",\"linecolor\":\"white\",\"minorgridcolor\":\"white\",\"startlinecolor\":\"#2a3f5f\"},\"type\":\"carpet\"}],\"table\":[{\"cells\":{\"fill\":{\"color\":\"#EBF0F8\"},\"line\":{\"color\":\"white\"}},\"header\":{\"fill\":{\"color\":\"#C8D4E3\"},\"line\":{\"color\":\"white\"}},\"type\":\"table\"}],\"barpolar\":[{\"marker\":{\"line\":{\"color\":\"#E5ECF6\",\"width\":0.5},\"pattern\":{\"fillmode\":\"overlay\",\"size\":10,\"solidity\":0.2}},\"type\":\"barpolar\"}],\"pie\":[{\"automargin\":true,\"type\":\"pie\"}]},\"layout\":{\"autotypenumbers\":\"strict\",\"colorway\":[\"#636efa\",\"#EF553B\",\"#00cc96\",\"#ab63fa\",\"#FFA15A\",\"#19d3f3\",\"#FF6692\",\"#B6E880\",\"#FF97FF\",\"#FECB52\"],\"font\":{\"color\":\"#2a3f5f\"},\"hovermode\":\"closest\",\"hoverlabel\":{\"align\":\"left\"},\"paper_bgcolor\":\"white\",\"plot_bgcolor\":\"#E5ECF6\",\"polar\":{\"bgcolor\":\"#E5ECF6\",\"angularaxis\":{\"gridcolor\":\"white\",\"linecolor\":\"white\",\"ticks\":\"\"},\"radialaxis\":{\"gridcolor\":\"white\",\"linecolor\":\"white\",\"ticks\":\"\"}},\"ternary\":{\"bgcolor\":\"#E5ECF6\",\"aaxis\":{\"gridcolor\":\"white\",\"linecolor\":\"white\",\"ticks\":\"\"},\"baxis\":{\"gridcolor\":\"white\",\"linecolor\":\"white\",\"ticks\":\"\"},\"caxis\":{\"gridcolor\":\"white\",\"linecolor\":\"white\",\"ticks\":\"\"}},\"coloraxis\":{\"colorbar\":{\"outlinewidth\":0,\"ticks\":\"\"}},\"colorscale\":{\"sequential\":[[0.0,\"#0d0887\"],[0.1111111111111111,\"#46039f\"],[0.2222222222222222,\"#7201a8\"],[0.3333333333333333,\"#9c179e\"],[0.4444444444444444,\"#bd3786\"],[0.5555555555555556,\"#d8576b\"],[0.6666666666666666,\"#ed7953\"],[0.7777777777777778,\"#fb9f3a\"],[0.8888888888888888,\"#fdca26\"],[1.0,\"#f0f921\"]],\"sequentialminus\":[[0.0,\"#0d0887\"],[0.1111111111111111,\"#46039f\"],[0.2222222222222222,\"#7201a8\"],[0.3333333333333333,\"#9c179e\"],[0.4444444444444444,\"#bd3786\"],[0.5555555555555556,\"#d8576b\"],[0.6666666666666666,\"#ed7953\"],[0.7777777777777778,\"#fb9f3a\"],[0.8888888888888888,\"#fdca26\"],[1.0,\"#f0f921\"]],\"diverging\":[[0,\"#8e0152\"],[0.1,\"#c51b7d\"],[0.2,\"#de77ae\"],[0.3,\"#f1b6da\"],[0.4,\"#fde0ef\"],[0.5,\"#f7f7f7\"],[0.6,\"#e6f5d0\"],[0.7,\"#b8e186\"],[0.8,\"#7fbc41\"],[0.9,\"#4d9221\"],[1,\"#276419\"]]},\"xaxis\":{\"gridcolor\":\"white\",\"linecolor\":\"white\",\"ticks\":\"\",\"title\":{\"standoff\":15},\"zerolinecolor\":\"white\",\"automargin\":true,\"zerolinewidth\":2},\"yaxis\":{\"gridcolor\":\"white\",\"linecolor\":\"white\",\"ticks\":\"\",\"title\":{\"standoff\":15},\"zerolinecolor\":\"white\",\"automargin\":true,\"zerolinewidth\":2},\"scene\":{\"xaxis\":{\"backgroundcolor\":\"#E5ECF6\",\"gridcolor\":\"white\",\"linecolor\":\"white\",\"showbackground\":true,\"ticks\":\"\",\"zerolinecolor\":\"white\",\"gridwidth\":2},\"yaxis\":{\"backgroundcolor\":\"#E5ECF6\",\"gridcolor\":\"white\",\"linecolor\":\"white\",\"showbackground\":true,\"ticks\":\"\",\"zerolinecolor\":\"white\",\"gridwidth\":2},\"zaxis\":{\"backgroundcolor\":\"#E5ECF6\",\"gridcolor\":\"white\",\"linecolor\":\"white\",\"showbackground\":true,\"ticks\":\"\",\"zerolinecolor\":\"white\",\"gridwidth\":2}},\"shapedefaults\":{\"line\":{\"color\":\"#2a3f5f\"}},\"annotationdefaults\":{\"arrowcolor\":\"#2a3f5f\",\"arrowhead\":0,\"arrowwidth\":1},\"geo\":{\"bgcolor\":\"white\",\"landcolor\":\"#E5ECF6\",\"subunitcolor\":\"white\",\"showland\":true,\"showlakes\":true,\"lakecolor\":\"white\"},\"title\":{\"x\":0.05},\"mapbox\":{\"style\":\"light\"}}},\"margin\":{\"t\":30,\"b\":10,\"l\":10,\"r\":10},\"title\":{\"text\":\"IPv6 VPN Transitions from 2025-06-13 to 2025-09-23\"},\"height\":1000},                        {\"responsive\": true}                    ).then(function(){\n",
              "                            \n",
              "var gd = document.getElementById('c140541e-d539-4cc6-b36d-56e6904588f1');\n",
              "var x = new MutationObserver(function (mutations, observer) {{\n",
              "        var display = window.getComputedStyle(gd).display;\n",
              "        if (!display || display === 'none') {{\n",
              "            console.log([gd, 'removed!']);\n",
              "            Plotly.purge(gd);\n",
              "            observer.disconnect();\n",
              "        }}\n",
              "}});\n",
              "\n",
              "// Listen for the removal of the full notebook cells\n",
              "var notebookContainer = gd.closest('#notebook-container');\n",
              "if (notebookContainer) {{\n",
              "    x.observe(notebookContainer, {childList: true});\n",
              "}}\n",
              "\n",
              "// Listen for the clearing of the current output cell\n",
              "var outputEl = gd.closest('.output');\n",
              "if (outputEl) {{\n",
              "    x.observe(outputEl, {childList: true});\n",
              "}}\n",
              "\n",
              "                        })                };            </script>        </div>"
            ]
          },
          "metadata": {},
          "output_type": "display_data"
        },
        {
          "name": "stdout",
          "output_type": "stream",
          "text": [
            "889 networks, 93.9% stable\n"
          ]
        }
      ],
      "source": [
        "# Analyze IPv6 VPN service transitions\n",
        "ipv6_transitions = analyze_vpn_service_transitions(df_ipv6_20250613, df_ipv6_20250923, \"IPv6\")\n",
        "\n",
        "# Create Sankey for IPv6\n",
        "if ipv6_transitions is not None:\n",
        "    create_vpn_service_sankey(ipv6_transitions, \"IPv6\", min_count=1)  # Lower threshold for IPv6\n"
      ]
    },
    {
      "cell_type": "code",
      "execution_count": 44,
      "metadata": {},
      "outputs": [
        {
          "name": "stdout",
          "output_type": "stream",
          "text": [
            "\n",
            "=== TOP 10 IPv4 VPN SERVICE TRANSITIONS ===\n",
            "Rank From Service              To Service                Networks   Type\n",
            "--------------------------------------------------------------------------------\n",
            "1    VPNGate                   VPNGate                   6,097      STABLE\n",
            "2    FastVPN                   FastVPN                   5,849      STABLE\n",
            "3    NordVPN                   NordVPN                   4,195      STABLE\n",
            "4    IPVanish                  IPVanish                  2,437      STABLE\n",
            "5    Troywell VPN              Troywell VPN              2,307      STABLE\n",
            "6    TunnelBear                TunnelBear                2,019      STABLE\n",
            "7    ProtonVPN                 ProtonVPN                 1,989      STABLE\n",
            "8    PrivateInternetAccess     PrivateInternetAccess     1,780      STABLE\n",
            "9    Surfshark                 Surfshark                 1,527      STABLE\n",
            "10   CyberGhost                CyberGhost                1,145      STABLE\n",
            "\n",
            "IPv4 VPN Service Stability Summary:\n",
            "Total networks tracked: 49,920\n",
            "Stable (same service): 42,991 (86.1%)\n",
            "Changed service: 6,929 (13.9%)\n",
            "\n",
            "Net Changes Analysis:\n",
            "Top 5 Service Gainers:\n",
            "  FastVPN: +460 networks\n",
            "  Surfshark: +279 networks\n",
            "  super_unlimited: +276 networks\n",
            "  holaproxy: +224 networks\n",
            "  ProtonVPN: +91 networks\n",
            "Top 5 Service Losers:\n",
            "  Trust VPN: -121 networks\n",
            "  IPVanish: -129 networks\n",
            "  TunnelBear: -234 networks\n",
            "  VPNGate: -383 networks\n",
            "  Unknown/Generic VPN: -1,083 networks\n",
            "\n",
            "=== TOP 10 IPv6 VPN SERVICE TRANSITIONS ===\n",
            "Rank From Service              To Service                Networks   Type\n",
            "--------------------------------------------------------------------------------\n",
            "1    Mullvad                   Mullvad                   506        STABLE\n",
            "2    OVPN                      OVPN                      229        STABLE\n",
            "3    Anonine                   BoxPN                     42         CHANGE\n",
            "4    MaxiVPN                   MaxiVPN                   34         STABLE\n",
            "5    Njalla                    Njalla                    29         STABLE\n",
            "6    1VPN                      1VPN                      11         STABLE\n",
            "7    MaxiVPN                   v2vpn                     9          CHANGE\n",
            "8    Troywell VPN              Troywell VPN              7          STABLE\n",
            "9    Jego                      Jego                      4          STABLE\n",
            "10   Unknown/Generic VPN       Unknown/Generic VPN       4          STABLE\n",
            "\n",
            "IPv6 VPN Service Stability Summary:\n",
            "Total networks tracked: 889\n",
            "Stable (same service): 835 (93.9%)\n",
            "Changed service: 54 (6.1%)\n",
            "\n",
            "Net Changes Analysis:\n",
            "Top 5 Service Gainers:\n",
            "Top 5 Service Losers:\n",
            "  HideMyIP: -1 networks\n",
            "  Snap: -1 networks\n",
            "  VeePN: -1 networks\n",
            "  MaxiVPN: -9 networks\n",
            "  Anonine: -42 networks\n"
          ]
        }
      ],
      "source": [
        "# Create summary analysis of the most significant service provider changes\n",
        "def analyze_top_transitions(transitions_df, ip_version, top_n=10):\n",
        "    \"\"\"Analyze the top service provider transitions\"\"\"\n",
        "    \n",
        "    if transitions_df is None or len(transitions_df) == 0:\n",
        "        return\n",
        "    \n",
        "    print(f\"\\n=== TOP {top_n} {ip_version} VPN SERVICE TRANSITIONS ===\")\n",
        "    \n",
        "    # Sort by count and get top transitions\n",
        "    top_transitions = transitions_df.sort_values('count', ascending=False).head(top_n)\n",
        "    \n",
        "    print(f\"{'Rank':<4} {'From Service':<25} {'To Service':<25} {'Networks':<10} {'Type'}\")\n",
        "    print(\"-\" * 80)\n",
        "    \n",
        "    for i, (_, row) in enumerate(top_transitions.iterrows(), 1):\n",
        "        from_service = row['service_old'][:24] if len(row['service_old']) > 24 else row['service_old']\n",
        "        to_service = row['service_new'][:24] if len(row['service_new']) > 24 else row['service_new']\n",
        "        \n",
        "        if row['service_old'] == row['service_new']:\n",
        "            transition_type = \"STABLE\"\n",
        "        else:\n",
        "            transition_type = \"CHANGE\"\n",
        "            \n",
        "        print(f\"{i:<4} {from_service:<25} {to_service:<25} {row['count']:<10,} {transition_type}\")\n",
        "    \n",
        "    # Calculate stability metrics\n",
        "    total_networks = transitions_df['count'].sum()\n",
        "    stable_networks = transitions_df[transitions_df['service_old'] == transitions_df['service_new']]['count'].sum()\n",
        "    changed_networks = total_networks - stable_networks\n",
        "    \n",
        "    print(f\"\\n{ip_version} VPN Service Stability Summary:\")\n",
        "    print(f\"Total networks tracked: {total_networks:,}\")\n",
        "    print(f\"Stable (same service): {stable_networks:,} ({stable_networks/total_networks*100:.1f}%)\")\n",
        "    print(f\"Changed service: {changed_networks:,} ({changed_networks/total_networks*100:.1f}%)\")\n",
        "    \n",
        "    # Top gaining and losing services\n",
        "    print(f\"\\nNet Changes Analysis:\")\n",
        "    \n",
        "    # Calculate net gains/losses for each service\n",
        "    service_changes = {}\n",
        "    \n",
        "    for service in transitions_df['service_old'].unique():\n",
        "        lost = transitions_df[(transitions_df['service_old'] == service) & \n",
        "                            (transitions_df['service_new'] != service)]['count'].sum()\n",
        "        gained = transitions_df[(transitions_df['service_new'] == service) & \n",
        "                              (transitions_df['service_old'] != service)]['count'].sum()\n",
        "        net_change = gained - lost\n",
        "        service_changes[service] = net_change\n",
        "    \n",
        "    # Show top gainers and losers\n",
        "    sorted_changes = sorted(service_changes.items(), key=lambda x: x[1], reverse=True)\n",
        "    \n",
        "    print(\"Top 5 Service Gainers:\")\n",
        "    for service, change in sorted_changes[:5]:\n",
        "        if change > 0:\n",
        "            print(f\"  {service}: +{change:,} networks\")\n",
        "    \n",
        "    print(\"Top 5 Service Losers:\")\n",
        "    for service, change in sorted_changes[-5:]:\n",
        "        if change < 0:\n",
        "            print(f\"  {service}: {change:,} networks\")\n",
        "\n",
        "# Analyze transitions for both IP versions\n",
        "if ipv4_transitions is not None:\n",
        "    analyze_top_transitions(ipv4_transitions, \"IPv4\")\n",
        "\n",
        "if ipv6_transitions is not None:\n",
        "    analyze_top_transitions(ipv6_transitions, \"IPv6\")\n"
      ]
    },
    {
      "cell_type": "code",
      "execution_count": null,
      "metadata": {},
      "outputs": [],
      "source": [
        "\n"
      ]
    }
  ],
  "metadata": {
    "language_info": {
      "name": "python"
    }
  },
  "nbformat": 4,
  "nbformat_minor": 2
}
